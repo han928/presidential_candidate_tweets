{
 "cells": [
  {
   "cell_type": "code",
   "execution_count": 1,
   "metadata": {
    "collapsed": false
   },
   "outputs": [
    {
     "name": "stderr",
     "output_type": "stream",
     "text": [
      "ERROR:py4j.java_gateway:An error occurred while trying to connect to the Java server (127.0.0.1:38176)\n",
      "Traceback (most recent call last):\n",
      "  File \"/usr/local/lib/python2.7/site-packages/py4j-0.9.2-py2.7.egg/py4j/java_gateway.py\", line 713, in start\n",
      "    self.socket.connect((self.address, self.port))\n",
      "  File \"/usr/lib64/python2.7/socket.py\", line 228, in meth\n",
      "    return getattr(self._sock,name)(*args)\n",
      "error: [Errno 111] Connection refused\n",
      "ERROR:py4j.java_gateway:An error occurred while trying to connect to the Java server (127.0.0.1:38176)\n",
      "Traceback (most recent call last):\n",
      "  File \"/usr/local/lib/python2.7/site-packages/py4j-0.9.2-py2.7.egg/py4j/java_gateway.py\", line 713, in start\n",
      "    self.socket.connect((self.address, self.port))\n",
      "  File \"/usr/lib64/python2.7/socket.py\", line 228, in meth\n",
      "    return getattr(self._sock,name)(*args)\n",
      "error: [Errno 111] Connection refused\n",
      "ERROR:py4j.java_gateway:An error occurred while trying to connect to the Java server (127.0.0.1:38176)\n",
      "Traceback (most recent call last):\n",
      "  File \"/usr/local/lib/python2.7/site-packages/py4j-0.9.2-py2.7.egg/py4j/java_gateway.py\", line 713, in start\n",
      "    self.socket.connect((self.address, self.port))\n",
      "  File \"/usr/lib64/python2.7/socket.py\", line 228, in meth\n",
      "    return getattr(self._sock,name)(*args)\n",
      "error: [Errno 111] Connection refused\n",
      "ERROR:py4j.java_gateway:An error occurred while trying to connect to the Java server (127.0.0.1:38176)\n",
      "Traceback (most recent call last):\n",
      "  File \"/usr/local/lib/python2.7/site-packages/py4j-0.9.2-py2.7.egg/py4j/java_gateway.py\", line 713, in start\n",
      "    self.socket.connect((self.address, self.port))\n",
      "  File \"/usr/lib64/python2.7/socket.py\", line 228, in meth\n",
      "    return getattr(self._sock,name)(*args)\n",
      "error: [Errno 111] Connection refused\n",
      "ERROR:py4j.java_gateway:An error occurred while trying to connect to the Java server (127.0.0.1:38176)\n",
      "Traceback (most recent call last):\n",
      "  File \"/usr/local/lib/python2.7/site-packages/py4j-0.9.2-py2.7.egg/py4j/java_gateway.py\", line 713, in start\n",
      "    self.socket.connect((self.address, self.port))\n",
      "  File \"/usr/lib64/python2.7/socket.py\", line 228, in meth\n",
      "    return getattr(self._sock,name)(*args)\n",
      "error: [Errno 111] Connection refused\n",
      "ERROR:py4j.java_gateway:An error occurred while trying to connect to the Java server (127.0.0.1:38176)\n",
      "Traceback (most recent call last):\n",
      "  File \"/usr/local/lib/python2.7/site-packages/py4j-0.9.2-py2.7.egg/py4j/java_gateway.py\", line 713, in start\n",
      "    self.socket.connect((self.address, self.port))\n",
      "  File \"/usr/lib64/python2.7/socket.py\", line 228, in meth\n",
      "    return getattr(self._sock,name)(*args)\n",
      "error: [Errno 111] Connection refused\n",
      "ERROR:py4j.java_gateway:An error occurred while trying to connect to the Java server (127.0.0.1:38176)\n",
      "Traceback (most recent call last):\n",
      "  File \"/usr/local/lib/python2.7/site-packages/py4j-0.9.2-py2.7.egg/py4j/java_gateway.py\", line 713, in start\n",
      "    self.socket.connect((self.address, self.port))\n",
      "  File \"/usr/lib64/python2.7/socket.py\", line 228, in meth\n",
      "    return getattr(self._sock,name)(*args)\n",
      "error: [Errno 111] Connection refused\n",
      "ERROR:py4j.java_gateway:An error occurred while trying to connect to the Java server (127.0.0.1:38176)\n",
      "Traceback (most recent call last):\n",
      "  File \"/usr/local/lib/python2.7/site-packages/py4j-0.9.2-py2.7.egg/py4j/java_gateway.py\", line 713, in start\n",
      "    self.socket.connect((self.address, self.port))\n",
      "  File \"/usr/lib64/python2.7/socket.py\", line 228, in meth\n",
      "    return getattr(self._sock,name)(*args)\n",
      "error: [Errno 111] Connection refused\n",
      "ERROR:py4j.java_gateway:An error occurred while trying to connect to the Java server (127.0.0.1:38176)\n",
      "Traceback (most recent call last):\n",
      "  File \"/usr/local/lib/python2.7/site-packages/py4j-0.9.2-py2.7.egg/py4j/java_gateway.py\", line 713, in start\n",
      "    self.socket.connect((self.address, self.port))\n",
      "  File \"/usr/lib64/python2.7/socket.py\", line 228, in meth\n",
      "    return getattr(self._sock,name)(*args)\n",
      "error: [Errno 111] Connection refused\n",
      "ERROR:py4j.java_gateway:An error occurred while trying to connect to the Java server (127.0.0.1:38176)\n",
      "Traceback (most recent call last):\n",
      "  File \"/usr/local/lib/python2.7/site-packages/py4j-0.9.2-py2.7.egg/py4j/java_gateway.py\", line 713, in start\n",
      "    self.socket.connect((self.address, self.port))\n",
      "  File \"/usr/lib64/python2.7/socket.py\", line 228, in meth\n",
      "    return getattr(self._sock,name)(*args)\n",
      "error: [Errno 111] Connection refused\n",
      "ERROR:py4j.java_gateway:An error occurred while trying to connect to the Java server (127.0.0.1:38176)\n",
      "Traceback (most recent call last):\n",
      "  File \"/usr/local/lib/python2.7/site-packages/py4j-0.9.2-py2.7.egg/py4j/java_gateway.py\", line 713, in start\n",
      "    self.socket.connect((self.address, self.port))\n",
      "  File \"/usr/lib64/python2.7/socket.py\", line 228, in meth\n",
      "    return getattr(self._sock,name)(*args)\n",
      "error: [Errno 111] Connection refused\n"
     ]
    },
    {
     "ename": "NameError",
     "evalue": "name 'sc' is not defined",
     "output_type": "error",
     "traceback": [
      "\u001b[1;31m---------------------------------------------------------------------------\u001b[0m\n\u001b[1;31mNameError\u001b[0m                                 Traceback (most recent call last)",
      "\u001b[1;32m<ipython-input-1-6c5632d78ad5>\u001b[0m in \u001b[0;36m<module>\u001b[1;34m()\u001b[0m\n\u001b[0;32m      4\u001b[0m \u001b[1;32mfrom\u001b[0m \u001b[0mpyspark\u001b[0m\u001b[1;33m.\u001b[0m\u001b[0mml\u001b[0m\u001b[1;33m.\u001b[0m\u001b[0mfeature\u001b[0m \u001b[1;32mimport\u001b[0m \u001b[0mWord2Vec\u001b[0m\u001b[1;33m\u001b[0m\u001b[0m\n\u001b[0;32m      5\u001b[0m \u001b[1;32mfrom\u001b[0m \u001b[0mpyspark\u001b[0m \u001b[1;32mimport\u001b[0m \u001b[0mRow\u001b[0m\u001b[1;33m\u001b[0m\u001b[0m\n\u001b[1;32m----> 6\u001b[1;33m \u001b[0msqlContext\u001b[0m \u001b[1;33m=\u001b[0m \u001b[0mSQLContext\u001b[0m\u001b[1;33m(\u001b[0m\u001b[0msc\u001b[0m\u001b[1;33m)\u001b[0m\u001b[1;33m\u001b[0m\u001b[0m\n\u001b[0m",
      "\u001b[1;31mNameError\u001b[0m: name 'sc' is not defined"
     ]
    }
   ],
   "source": [
    "import json\n",
    "from pyspark import  SparkContext\n",
    "from pyspark.sql import SQLContext\n",
    "from pyspark.ml.feature import Word2Vec\n",
    "from pyspark import Row\n",
    "sqlContext = SQLContext(sc)  "
   ]
  },
  {
   "cell_type": "code",
   "execution_count": 2,
   "metadata": {
    "collapsed": false
   },
   "outputs": [],
   "source": [
    "# handling issue with dot in bucket name\n",
    "import ssl\n",
    "if hasattr(ssl, '_create_unverified_context'):\n",
    "   ssl._create_default_https_context = ssl._create_unverified_context\n"
   ]
  },
  {
   "cell_type": "code",
   "execution_count": 3,
   "metadata": {
    "collapsed": false
   },
   "outputs": [],
   "source": [
    "# aws credential\n",
    "aws_access_key_id = ''\n",
    "aws_secret_access_key = ''"
   ]
  },
  {
   "cell_type": "code",
   "execution_count": 4,
   "metadata": {
    "collapsed": false
   },
   "outputs": [],
   "source": [
    "import boto"
   ]
  },
  {
   "cell_type": "code",
   "execution_count": 5,
   "metadata": {
    "collapsed": false
   },
   "outputs": [],
   "source": [
    "conn = boto.connect_s3()"
   ]
  },
  {
   "cell_type": "code",
   "execution_count": 6,
   "metadata": {
    "collapsed": false
   },
   "outputs": [],
   "source": [
    "b = conn.get_bucket('han.2016.march')"
   ]
  },
  {
   "cell_type": "code",
   "execution_count": 7,
   "metadata": {
    "collapsed": false
   },
   "outputs": [],
   "source": [
    "k_list = [k.name for k in b.get_all_keys() ]\n",
    "url_list = [ sc.textFile('s3n://{}:{}@han.2016.march/{}'.format(aws_access_key_id, aws_secret_access_key, k)) for k in k_list]\n",
    "all_tweets = sc.union(url_list)"
   ]
  },
  {
   "cell_type": "code",
   "execution_count": 9,
   "metadata": {
    "collapsed": false
   },
   "outputs": [
    {
     "data": {
      "text/plain": [
       "MapPartitionsRDD[1999] at textFile at null:-1"
      ]
     },
     "execution_count": 9,
     "metadata": {},
     "output_type": "execute_result"
    }
   ],
   "source": [
    "url_list[999]"
   ]
  },
  {
   "cell_type": "code",
   "execution_count": 10,
   "metadata": {
    "collapsed": false
   },
   "outputs": [],
   "source": [
    "output = []\n",
    "for url in url_list:\n",
    "    tweets = sqlContext.read.json(url)\n",
    "    tweets.registerTempTable(\"tweets\")\n",
    "    sqlFilterCommand = \"SELECT text FROM tweets WHERE (lang = 'en') AND \"+\"( text like '%trump%')\"\n",
    "    tweetsDF = sqlContext.sql(sqlFilterCommand).collect()\n",
    "    if len(tweetsDF) != 0:\n",
    "        output.extend(tweetsDF)"
   ]
  },
  {
   "cell_type": "code",
   "execution_count": 11,
   "metadata": {
    "collapsed": false
   },
   "outputs": [],
   "source": [
    "out = sc.parallelize(output)"
   ]
  },
  {
   "cell_type": "code",
   "execution_count": 12,
   "metadata": {
    "collapsed": false
   },
   "outputs": [],
   "source": [
    "from nltk.corpus import stopwords\n",
    "stop = stopwords.words('english')"
   ]
  },
  {
   "cell_type": "code",
   "execution_count": 13,
   "metadata": {
    "collapsed": false
   },
   "outputs": [],
   "source": [
    "def parseAndRemoveStopWords(text):\n",
    "    t = text.replace(\";\",\" \").replace(\":\",\" \").replace('\"',' ').replace('-',' ')\n",
    "    t = t.replace(',',' ').replace('.',' ')\n",
    "    t = t.lower().split(\" \")\n",
    "#     stop = stopwords.words('english')\n",
    "    return [i for i in t if i not in stop]\n"
   ]
  },
  {
   "cell_type": "code",
   "execution_count": 14,
   "metadata": {
    "collapsed": false
   },
   "outputs": [],
   "source": [
    "prep_w2v = out.map(lambda x: x['text']).map(parseAndRemoveStopWords)"
   ]
  },
  {
   "cell_type": "code",
   "execution_count": 15,
   "metadata": {
    "collapsed": false
   },
   "outputs": [],
   "source": [
    "from pyspark.mllib.feature import Word2Vec\n"
   ]
  },
  {
   "cell_type": "code",
   "execution_count": 16,
   "metadata": {
    "collapsed": false
   },
   "outputs": [],
   "source": [
    "w2v = Word2Vec()"
   ]
  },
  {
   "cell_type": "code",
   "execution_count": 17,
   "metadata": {
    "collapsed": false
   },
   "outputs": [],
   "source": [
    "w2v_output = w2v.fit(prep_w2v)"
   ]
  },
  {
   "cell_type": "code",
   "execution_count": 18,
   "metadata": {
    "collapsed": false
   },
   "outputs": [
    {
     "data": {
      "text/plain": [
       "[(u'kid', 0.39498921793081315),\n",
       " (u'would', 0.39485935274055395),\n",
       " (u'#kkktrump', 0.39374840796352706),\n",
       " (u'live', 0.38841990716940283),\n",
       " (u'america', 0.37060331732387353),\n",
       " (u'first', 0.36086675685374231),\n",
       " (u'lose', 0.3597226167355641),\n",
       " (u'today!', 0.35767082008065043),\n",
       " (u'24hrs', 0.34977145865615294),\n",
       " (u'campaign', 0.3451225897150566),\n",
       " (u'one', 0.34494202084515058),\n",
       " (u'#nevertrump\\n#mapoli', 0.34286857181797986),\n",
       " (u'\\U0001f611#danielforpres\\u2026', 0.33688441168695005),\n",
       " (u'let', 0.32737243527558352),\n",
       " (u'believe', 0.32572269442158436),\n",
       " (u'actual', 0.32472242173884086),\n",
       " (u'serious', 0.31790397311320262),\n",
       " (u'ted', 0.31779130354248908),\n",
       " (u'marco', 0.31492913000103318),\n",
       " (u'@veggiejuless', 0.31232073223100904),\n",
       " (u'face', 0.31206119929710174),\n",
       " (u'kkk', 0.31168191959908814),\n",
       " (u'joke', 0.31043819077986229),\n",
       " (u'#trump', 0.30798145932823967),\n",
       " (u'baby', 0.30714835156818027),\n",
       " (u'decal', 0.30492532211734719),\n",
       " (u'president', 0.30264584452127935),\n",
       " (u'lets', 0.29872919231655126),\n",
       " (u'#secprimary', 0.29827802314676094),\n",
       " (u'better', 0.29824660815794807),\n",
       " (u'#trump2016', 0.29165319515960875),\n",
       " (u'presidential', 0.29120687854450289),\n",
       " (u'johnny', 0.29091580947767437),\n",
       " (u'leonardo', 0.28955583993076295),\n",
       " (u'trump!', 0.28912343023858716),\n",
       " (u'company', 0.28455702967347785),\n",
       " (u'dicaprio\\nfave', 0.28455631300633766),\n",
       " (u'john', 0.27642427084740534),\n",
       " (u'country', 0.27615185842592138),\n",
       " (u'republican', 0.27609290798892083),\n",
       " (u'tuesday', 0.27443941101767849),\n",
       " (u'trump?', 0.27334251353065953),\n",
       " (u'ever', 0.27267563041661586),\n",
       " (u'keep', 0.26996047559788916),\n",
       " (u'!', 0.26492555704287807),\n",
       " (u'via', 0.26345129640656911),\n",
       " (u'contenders?', 0.26198144349909835),\n",
       " (u'@dyianspack', 0.25986669913360139),\n",
       " (u'start', 0.25901498297756187),\n",
       " (u'super', 0.25883972732211086),\n",
       " (u'#trending', 0.25623210735058644),\n",
       " (u'partner', 0.25405345282307806),\n",
       " (u'#startups', 0.25244600007141937),\n",
       " (u'become', 0.25014573325416961),\n",
       " (u'cruz', 0.24826532707292243),\n",
       " (u'everyone', 0.24819608960162357),\n",
       " (u'build', 0.24788328181789479),\n",
       " (u'watching', 0.24696862890116408),\n",
       " (u'#trumptrain', 0.24490808201700562),\n",
       " (u'next', 0.24362437328059627),\n",
       " (u'secret', 0.24152230447347164),\n",
       " (u'usa', 0.23970632504242823),\n",
       " (u'#fashion', 0.23855942172831363),\n",
       " (u'kind', 0.23798585049836363),\n",
       " (u'line', 0.23717885487694948),\n",
       " (u\"can't\", 0.234751432654036),\n",
       " (u'please', 0.2338861213088618),\n",
       " (u\"i've\", 0.23264183480326941),\n",
       " (u'c\\u2026', 0.22733472620672981),\n",
       " (u'happen', 0.22672178955937508),\n",
       " (u'get', 0.22558166681100864),\n",
       " (u'even', 0.22556295829075235),\n",
       " (u'president?\\nrt', 0.22433204351837976),\n",
       " (u'becomes', 0.22272493497363235),\n",
       " (u'wait', 0.22096841445240167),\n",
       " (u\"there's\", 0.22009656606071751),\n",
       " (u'impeach', 0.21995590660724629),\n",
       " (u'co/z6v9gkw4ub', 0.21799542129280733),\n",
       " (u'#nra', 0.21536354709376518),\n",
       " (u'help', 0.21533944270687888),\n",
       " (u'elected', 0.21477345917527171),\n",
       " (u'running', 0.21421432830004458),\n",
       " (u'video', 0.21391064436204102),\n",
       " (u'co/\\u2026', 0.21266252021209789),\n",
       " (u'lol', 0.21139087997139311),\n",
       " (u'later\\nthe', 0.21106837091724626),\n",
       " (u'cause', 0.2094621578447457),\n",
       " (u'#dumptrump', 0.20922509493356467),\n",
       " (u'fact', 0.20903382262966491),\n",
       " (u'time', 0.20646072800942053),\n",
       " (u'make', 0.20612733889078294),\n",
       " (u'term', 0.20592933814321429),\n",
       " (u'co/4mutafpjme', 0.20519835381798004),\n",
       " (u'co/j58e8aacre', 0.20405048644713156),\n",
       " (u'@amrightnow', 0.20331902841875643),\n",
       " (u'bad', 0.20188957968096677),\n",
       " (u'large', 0.20052670147678442),\n",
       " (u'#realdonaldtrump', 0.19882076832817597),\n",
       " (u'@youtube', 0.19574853744842663),\n",
       " (u'2016', 0.19442314105280306),\n",
       " (u'hope', 0.1941449756330223),\n",
       " (u'republicans', 0.19227180628913335),\n",
       " (u'#nevertrump', 0.18765767840585126),\n",
       " (u'#pjnet', 0.18709273279664496),\n",
       " (u'@papi_flacko', 0.1866111967981593),\n",
       " (u'extra', 0.18634674874129659),\n",
       " (u'says', 0.18538758721523588),\n",
       " (u'fuck', 0.18297627853333751),\n",
       " (u'cannot', 0.18214070514613559),\n",
       " (u'trust', 0.180723800159482),\n",
       " (u'ok', 0.17928309069846532),\n",
       " (u'news!!', 0.1776546758594843),\n",
       " (u'@trumpy17', 0.17717231880914222),\n",
       " (u'genuinely', 0.17648927685078381),\n",
       " (u'clinton', 0.17532608149794304),\n",
       " (u\"trump's\", 0.17529739240040965),\n",
       " (u'literally', 0.17463078117386185),\n",
       " (u'understand', 0.17449867356500132),\n",
       " (u'\\ntrump', 0.17315008261845663),\n",
       " (u'co/gpjr6uc9sb', 0.17261715692118784),\n",
       " (u'#gop', 0.17117158174547029),\n",
       " (u'us', 0.1680103819868517),\n",
       " (u'say', 0.16790735390247244),\n",
       " (u'might', 0.16562300090059939),\n",
       " (u'sticker', 0.16463676986754189),\n",
       " (u'another', 0.16406466994407051),\n",
       " (u'#supertuesday', 0.16403263186590208),\n",
       " (u'crazy', 0.16200612513876458),\n",
       " (u'https', 0.1618432766594699),\n",
       " (u\"it's\", 0.16079633892787265),\n",
       " (u'@tyleroakley', 0.15968903589629732),\n",
       " (u\"y'all\", 0.1586170141202326),\n",
       " (u'#votetrump2016', 0.1582715881132003),\n",
       " (u'#1a', 0.15740413066097861),\n",
       " (u'fun', 0.1572326544282216),\n",
       " (u'#2a', 0.15677234296885392),\n",
       " (u'candidate', 0.15484412695972785),\n",
       " (u'flood', 0.15326543637308421),\n",
       " (u\"let's\", 0.15288771876757737),\n",
       " (u'need', 0.15225462576809048),\n",
       " (u'always', 0.1504228855897978),\n",
       " (u'americans', 0.14974167928558646),\n",
       " (u'#tcot', 0.14805082202632613),\n",
       " (u'big', 0.14797266252601099),\n",
       " (u'thought', 0.14715301602575778),\n",
       " (u'scary', 0.14498838468949032),\n",
       " (u'follow', 0.14329110665851069),\n",
       " (u'lights', 0.14288217768880013),\n",
       " (u'look', 0.14127004895586615),\n",
       " (u'mr', 0.14076325078270158),\n",
       " (u'money', 0.13890455925962131),\n",
       " (u'http\\u2026', 0.13828745197948869),\n",
       " (u'shows', 0.1381164036442894),\n",
       " (u'@madblacktwink', 0.13656368262626281),\n",
       " (u'wanna', 0.13616676139490466),\n",
       " (u'cthulhu', 0.13421180384891679),\n",
       " (u'co/4\\u2026', 0.13197747533246357),\n",
       " (u'thank', 0.13148705758011286),\n",
       " (u'see', 0.1309005034584548),\n",
       " (u'still', 0.13081738543619856),\n",
       " (u'paul', 0.1304546367913757),\n",
       " (u'party', 0.12885500222245816),\n",
       " (u'muslim', 0.12671712925560405),\n",
       " (u'//t', 0.12530940951973435),\n",
       " (u'many', 0.12480653490234328),\n",
       " (u'sign', 0.12325881276316099),\n",
       " (u'behind', 0.12247869705811226),\n",
       " (u'u', 0.12151228083661),\n",
       " (u'leaving', 0.1203302418688072),\n",
       " (u'@briannaurie', 0.11871602512046284),\n",
       " (u'co/ayxqdm0adm', 0.11798722638354607),\n",
       " (u'//\\u2026', 0.11742368774308698),\n",
       " (u'@trump2021', 0.11467220183845156),\n",
       " (u'oliver', 0.11435380929829363),\n",
       " (u'looks', 0.11428691184975807),\n",
       " (u'@tedcruz', 0.11396170884396484),\n",
       " (u'daddy', 0.11386681373068723),\n",
       " (u'wall', 0.11356524210817365),\n",
       " (u'cnn', 0.11274270566017477),\n",
       " (u'\\U0001f602\\U0001f602\\U0001f602', 0.11207530175822258),\n",
       " (u'@danielsahyounie', 0.11172814325055067),\n",
       " (u'guess', 0.11144401768865676),\n",
       " (u'good', 0.11140391939008311),\n",
       " (u'co\\u2026', 0.1104527120674265),\n",
       " (u'rally', 0.11002903818630728),\n",
       " (u'blah', 0.10991241014689414),\n",
       " (u'@immigrant4trump', 0.10945257873029819),\n",
       " (u'#1', 0.10838741673682972),\n",
       " (u'ppl', 0.1082144304195983),\n",
       " (u'shit', 0.10679073633927438),\n",
       " (u'honestly', 0.10635515187719823),\n",
       " (u'ht\\u2026', 0.10621506357033489),\n",
       " (u'\\nbetter', 0.10556281411154364),\n",
       " (u'wants', 0.10360216567684763),\n",
       " (u'man', 0.10301093781126183),\n",
       " (u'coming', 0.10285025645556813),\n",
       " (u'teenagers', 0.099887528498581596),\n",
       " (u'stars', 0.099574735204144782),\n",
       " (u'think', 0.099415142313180799),\n",
       " (u\"i'd\", 0.099060087810883254),\n",
       " (u'today', 0.097765073182662102),\n",
       " (u'hair', 0.097416924400964625),\n",
       " (u'rt', 0.096950040346585456),\n",
       " (u'#alwaystrump', 0.096655454481501701),\n",
       " (u'endorse', 0.09616070838258492),\n",
       " (u'real', 0.095255096506525638),\n",
       " (u'black', 0.09501475105645682),\n",
       " (u'race', 0.09139307216991599),\n",
       " (u'everywhere', 0.088706891761742485),\n",
       " (u'done', 0.088337559412854469),\n",
       " (u'#donaldtrump', 0.087830097748108862),\n",
       " (u'candidates', 0.086599582236864481),\n",
       " (u'win', 0.084144816919801302),\n",
       " (u'fear', 0.082723891060774185),\n",
       " (u'convince', 0.080022962865399491),\n",
       " (u'rubio', 0.07992090657744709),\n",
       " (u'point', 0.079540580466471625),\n",
       " (u'register', 0.079348088432203132),\n",
       " (u'+', 0.078802334652566822),\n",
       " (u'#votetrump', 0.077713323792318698),\n",
       " (u'2', 0.077464785827393634),\n",
       " (u'may', 0.077028322800754931),\n",
       " (u\"don't\", 0.076013906162648429),\n",
       " (u'showing', 0.074087573793849448),\n",
       " (u'remember', 0.073403187444066709),\n",
       " (u'votes', 0.07200759234934237),\n",
       " (u'minutes', 0.071767288255323566),\n",
       " (u'much', 0.07174447246766405),\n",
       " (u'supporter', 0.071481553501249545),\n",
       " (u'oh', 0.071333661925929742),\n",
       " (u'tho', 0.069855526998745351),\n",
       " (u'almost', 0.069772894680659281),\n",
       " (u'', 0.069362117895840347),\n",
       " (u'said', 0.065394397116467801),\n",
       " (u'lmao', 0.065050324181177149),\n",
       " (u'fox', 0.064530641329505103),\n",
       " (u'fucking', 0.06331441891877207),\n",
       " (u'taking', 0.062712498607737879),\n",
       " (u'@clewandowski_', 0.062509213070657599),\n",
       " (u'muslims', 0.062303704953371647),\n",
       " (u'@dixiefortrump', 0.061866362005515756),\n",
       " (u'#supermonday', 0.061669147736776217),\n",
       " (u'year', 0.060799551853443129),\n",
       " (u'press', 0.060387529560745695),\n",
       " (u'dems', 0.060099901375438941),\n",
       " (u'voters', 0.059148485989071485),\n",
       " (u'changing', 0.058196186048284311),\n",
       " (u'=', 0.058058110889138953),\n",
       " (u'well', 0.057978710575582862),\n",
       " (u'presidency', 0.056749307333775749),\n",
       " (u'\\n\\n', 0.056144882421969439),\n",
       " (u'go', 0.055589564818720141),\n",
       " (u'stop', 0.053039160705541884),\n",
       " (u'people', 0.05217140424418782),\n",
       " (u'gives', 0.052104753686310672),\n",
       " (u'needs', 0.051502852851722625),\n",
       " (u'way', 0.051469295578867154),\n",
       " (u'great', 0.05105994960867994),\n",
       " (u'politics', 0.051049805192048062),\n",
       " (u'support', 0.049764924277606849),\n",
       " (u'hit', 0.04936791698727766),\n",
       " (u'@trump2016fan', 0.047981574132568233),\n",
       " (u'story', 0.046829669182900525),\n",
       " (u'funny', 0.046232055842208138),\n",
       " (u'#bernieorbust', 0.045991647856658623),\n",
       " (u'debate', 0.045060078610507912),\n",
       " (u\"didn't\", 0.044840292392965705),\n",
       " (u'@realdonaldtrump', 0.043897960144886179),\n",
       " (u'must', 0.043589322312449996),\n",
       " (u'illegal', 0.043306629838700803),\n",
       " (u'states', 0.042847292582839883),\n",
       " (u'left', 0.042526139808836461),\n",
       " (u'voted', 0.041486998241617029),\n",
       " (u'asshole', 0.040848352524866238),\n",
       " (u'american', 0.040793117553300465),\n",
       " (u'mean', 0.040144205359041521),\n",
       " (u'actually', 0.040085954333799502),\n",
       " (u'@marcorubio', 0.039166558372179291),\n",
       " (u'sure', 0.03899442729939244),\n",
       " (u'leap', 0.038879366994184011),\n",
       " (u'sanders', 0.035491298440325489),\n",
       " (u'4', 0.035007742733381003),\n",
       " (u'march', 0.033853287086966735),\n",
       " (u\"isn't\", 0.033340858125938289),\n",
       " (u'white', 0.033071907988346992),\n",
       " (u'/\\u2026', 0.029383032605443199),\n",
       " (u'around', 0.029031965950640209),\n",
       " (u'//t\\u2026', 0.025918083918130736),\n",
       " (u'rather', 0.023983424485107482),\n",
       " (u'@hillaryclinton', 0.023770310776100236),\n",
       " (u'@gma', 0.022444060769977913),\n",
       " (u'@nadelparis', 0.022329877155261482),\n",
       " (u'\\U0001f449https', 0.022208736303340599),\n",
       " (u'#imwithher', 0.021477761464791842),\n",
       " (u'electable', 0.019775909860008507),\n",
       " (u\"that's\", 0.018785114196420764),\n",
       " (u'#feelthebern', 0.017717348512535435),\n",
       " (u'slavery=', 0.016264041967891354),\n",
       " (u'stalin', 0.01621094193219455),\n",
       " (u\"danke/doesn't\", 0.014452570900557592),\n",
       " (u'hitler', 0.014125362930146677),\n",
       " (u'@cnn', 0.013646672254746958),\n",
       " (u'gonna', 0.012621017783875473),\n",
       " (u'really', 0.012337366991555401),\n",
       " (u'endorses', 0.011445783537339299),\n",
       " (u'?', 0.0091903801836313113),\n",
       " (u'long', 0.0090026447861412343),\n",
       " (u'chance', 0.0087201205977009942),\n",
       " (u'yes', 0.0081590291021900879),\n",
       " (u'\\u2026', 0.004969565438801048),\n",
       " (u'every', 0.0048025285085680474),\n",
       " (u'ryan', 0.0045790726741619043),\n",
       " (u'#trumpdump', 0.0030207735253700691),\n",
       " (u'\\n\\nracism=', 0.00080679866300007374),\n",
       " (u\"won't\", 0.0006809204495847259),\n",
       " (u'@foxnews', -0.00086535736320293775),\n",
       " (u'ur', -0.0022642761917148657),\n",
       " (u'gop', -0.004745274856685822),\n",
       " (u'beat', -0.0058746168689407241),\n",
       " (u'signs', -0.0064982374518776928),\n",
       " (u'\\U0001f44f\\U0001f3fc', -0.0067511477616643105),\n",
       " (u'person', -0.0070006283933198403),\n",
       " (u'elite', -0.0072981239945898897),\n",
       " (u'\\n\\nholocaust=', -0.0082558961296554934),\n",
       " (u'\\n\\ndonald', -0.0084927448967267085),\n",
       " (u'supporters', -0.010189318246697636),\n",
       " (u'going', -0.012707646773457548),\n",
       " (u'like', -0.017490911000181544),\n",
       " (u'hear', -0.017681284853290964),\n",
       " (u'obama', -0.017873650081545657),\n",
       " (u'made', -0.01866819839964463),\n",
       " (u'bias', -0.019641095453043333),\n",
       " (u'lying', -0.019873844126621479),\n",
       " (u'@tamronhall', -0.020463572199188321),\n",
       " (u'trump=', -0.022063258323384755),\n",
       " (u'right', -0.023656576828358911),\n",
       " (u'career', -0.024484607447539587),\n",
       " (u'election', -0.024562440990367741),\n",
       " (u'honor', -0.027267048081174527),\n",
       " (u'talk', -0.027975973676421611),\n",
       " (u'@aidan', -0.028973619409720808),\n",
       " (u'new', -0.031704901967996447),\n",
       " (u\"aren't\", -0.03250185927111629),\n",
       " (u'either', -0.034373317554173548),\n",
       " (u\"i'm\", -0.034560039910376775),\n",
       " (u'r', -0.039392482691191784),\n",
       " (u'@cnnpolitics', -0.03987045308553791),\n",
       " (u'bernie', -0.041828032777324158),\n",
       " (u'#makeamericagreatagain', -0.042382801883133536),\n",
       " (u'@aguywithnolife', -0.043260652917939166),\n",
       " (u'generations', -0.044561523620160519),\n",
       " (u'world', -0.047975563581785306),\n",
       " (u'come', -0.048658453988421807),\n",
       " (u'poll', -0.048909671574187859),\n",
       " (u'liar', -0.049475823774712178),\n",
       " (u'saying', -0.053345408439657842),\n",
       " (u'\\u2018i', -0.055529165400799475),\n",
       " (u'wins', -0.056415980145749327),\n",
       " (u'thing', -0.058157096378660067),\n",
       " (u'back', -0.059220609379256883),\n",
       " (u'watch', -0.060887051117870829),\n",
       " (u'nothing', -0.061971010418829443),\n",
       " (u'unless', -0.063449489748795787),\n",
       " (u'show', -0.064204596994844737),\n",
       " (u'virginia', -0.06441492808700082),\n",
       " (u'enough', -0.066881556100375106),\n",
       " (u\"doesn't\", -0.067230839027001429),\n",
       " (u'@berniesanders', -0.067678275354429551),\n",
       " (u'conservative', -0.06768724943994936),\n",
       " (u'twitter', -0.069546204264161984),\n",
       " (u'bad\\u2026', -0.072933441898234044),\n",
       " (u'voting', -0.073312050503351628),\n",
       " (u'h\\u2026', -0.07343974724543674),\n",
       " (u'sexist', -0.073794874101009503),\n",
       " (u'w', -0.074533733167933311),\n",
       " (u'https\\u2026', -0.075128913782443227),\n",
       " (u'anything', -0.076803051096305239),\n",
       " (u'guessed', -0.077229987834818908),\n",
       " (u'guy', -0.077600944161970109),\n",
       " (u\"he's\", -0.079176139661270947),\n",
       " (u'david', -0.080480792666413906),\n",
       " (u'hillary', -0.082771957938424706),\n",
       " (u'want', -0.082863040578425556),\n",
       " (u'tell', -0.083163056391525617),\n",
       " (u'htt\\u2026', -0.08516248430335388),\n",
       " (u'us?', -0.087050566855993813),\n",
       " (u'&amp', -0.087920332251510608),\n",
       " (u'primary', -0.089664528814918903),\n",
       " (u'know', -0.092118511480966114),\n",
       " (u'@mitchellvii', -0.094053816649259367),\n",
       " (u'though', -0.095588233850716922),\n",
       " (u'political', -0.099962673003915717),\n",
       " (u'word', -0.10047383184516745),\n",
       " (u'worst', -0.10290567410894257),\n",
       " (u'@trump_world', -0.10530988926071182),\n",
       " (u'put', -0.10557873377173992),\n",
       " (u'could', -0.10692693325476478),\n",
       " (u'ass', -0.10750980200304597),\n",
       " (u'pay', -0.10912855319534691),\n",
       " (u'trumps', -0.11196305203915531),\n",
       " (u'badly', -0.11572637827803955),\n",
       " (u'short', -0.11621245787975464),\n",
       " (u'c', -0.11978383489008031),\n",
       " (u'called', -0.11988835247945687),\n",
       " (u'i\\u2019m', -0.12324201670289364),\n",
       " (u'gets', -0.12705498954602218),\n",
       " (u'talking', -0.13021760234642871),\n",
       " (u'defeat', -0.13218960642176078),\n",
       " (u'fraud', -0.13402982088599183),\n",
       " (u'anyone', -0.1388854995973601),\n",
       " (u'antics', -0.14126071775775284),\n",
       " (u'someone', -0.1430389712861321),\n",
       " (u'trying', -0.14872501160414989),\n",
       " (u'love', -0.15071817703288115),\n",
       " (u'call', -0.15300450195984372),\n",
       " (u'im', -0.15492000856568),\n",
       " (u'life', -0.1560757639786933),\n",
       " (u\"you're\", -0.16176166074979589),\n",
       " (u'everything', -0.16199016972505956),\n",
       " (u'lot', -0.16802819261200996),\n",
       " (u\"wouldn't\", -0.1711023174444426),\n",
       " (u'hatred', -0.17247428367545997),\n",
       " (u'[trump]', -0.17460937301986212),\n",
       " (u'segment', -0.18574467777695503),\n",
       " (u'vs', -0.19187088988508891),\n",
       " (u'trumpet', -0.19254454472692223),\n",
       " (u'never', -0.19431150760773497),\n",
       " (u'nominee', -0.19641100413881535),\n",
       " (u'hilary', -0.19663136840187201),\n",
       " (u'voter', -0.19671013581662369),\n",
       " (u'msnbc', -0.20344132927507336),\n",
       " (u'best', -0.20481692239766408),\n",
       " (u'views', -0.20736439281948404),\n",
       " (u'democrat', -0.20750646715901383),\n",
       " (u'racist', -0.2081797032737531),\n",
       " (u'house', -0.21003352090710203),\n",
       " (u'donald', -0.21225988817689206),\n",
       " (u'got', -0.21341895921369211),\n",
       " (u'hate', -0.22244131867121852),\n",
       " (u'kids', -0.22561696227263742),\n",
       " (u'day', -0.23584197710716148),\n",
       " (u'represents', -0.24966346449778495),\n",
       " (u'#makedonalddrumpfagain', -0.25382010703446928),\n",
       " (u'texas', -0.26139559189645678),\n",
       " (u'media', -0.26247106706727008),\n",
       " (u'feel', -0.27315330070737698),\n",
       " (u'vote', -0.27742547556405023),\n",
       " (u'stay', -0.28596695050675952),\n",
       " (u'angry', -0.2880272464893831),\n",
       " (u'read', -0.29363557979482735),\n",
       " (u'female', -0.3033491804992986),\n",
       " (u'something', -0.30649316862142623),\n",
       " (u'speaks', -0.31342793679449976),\n",
       " (u'bc', -0.317948787056761),\n",
       " (u'homophobic', -0.31997035433877602),\n",
       " (u'take', -0.33452551639023576),\n",
       " (u'reason', -0.34886401974129666)]"
      ]
     },
     "execution_count": 18,
     "metadata": {},
     "output_type": "execute_result"
    }
   ],
   "source": [
    "w2v_output.findSynonyms('trump',10000)"
   ]
  },
  {
   "cell_type": "code",
   "execution_count": 19,
   "metadata": {
    "collapsed": false
   },
   "outputs": [
    {
     "data": {
      "text/plain": [
       "1301"
      ]
     },
     "execution_count": 19,
     "metadata": {},
     "output_type": "execute_result"
    }
   ],
   "source": [
    "len(output)"
   ]
  },
  {
   "cell_type": "code",
   "execution_count": 20,
   "metadata": {
    "collapsed": false
   },
   "outputs": [
    {
     "data": {
      "text/plain": [
       "Row(text=u'@jaimedea20 @veggiejuless thats why you and your whole mexican food eating family need to vote for anyone but trump')"
      ]
     },
     "execution_count": 20,
     "metadata": {},
     "output_type": "execute_result"
    }
   ],
   "source": [
    "output[10\n",
    "       ]"
   ]
  },
  {
   "cell_type": "code",
   "execution_count": null,
   "metadata": {
    "collapsed": false
   },
   "outputs": [],
   "source": []
  }
 ],
 "metadata": {
  "kernelspec": {
   "display_name": "Python 2",
   "language": "python",
   "name": "python2"
  },
  "language_info": {
   "codemirror_mode": {
    "name": "ipython",
    "version": 2
   },
   "file_extension": ".py",
   "mimetype": "text/x-python",
   "name": "python",
   "nbconvert_exporter": "python",
   "pygments_lexer": "ipython2",
   "version": "2.7.11"
  }
 },
 "nbformat": 4,
 "nbformat_minor": 0
}
